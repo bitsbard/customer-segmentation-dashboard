{
 "cells": [
  {
   "cell_type": "code",
   "execution_count": null,
   "metadata": {
    "vscode": {
     "languageId": "plaintext"
    }
   },
   "outputs": [],
   "source": [
    "# Customer Segmentation Dashboard: Phase 1 - Data Collection and Preparation\n",
    "\n",
    "**Objective**: Source and set up e-commerce customer data in an SQLite database for RFM analysis.\n",
    "\n",
    "**Tools**:\n",
    "- Python (pandas, sqlite3)\n",
    "- SQLite database\n",
    "- Dataset: Kaggle 'carrie1/ecommerce-data'\n",
    "\n",
    "**Steps**:\n",
    "1. Confirm dataset path from Kaggle download.\n",
    "2. Create an SQLite database.\n",
    "3. Import the dataset into the database.\n",
    "4. Explore the data structure (schema and sample rows)."
   ]
  },
  {
   "cell_type": "code",
   "execution_count": null,
   "metadata": {
    "vscode": {
     "languageId": "plaintext"
    }
   },
   "outputs": [],
   "source": [
    "import pandas as pd\n",
    "import sqlite3\n",
    "import kagglehub\n",
    "\n",
    "# Download dataset and confirm path\n",
    "path = kagglehub.dataset_download('carrie1/ecommerce-data')\n",
    "print('Path to dataset files:', path)\n",
    "\n",
    "# Update this with the actual path to data.csv\n",
    "csv_file_path = '../data/data.csv'  # Already copied to data/ directory"
   ]
  },
  {
   "cell_type": "code",
   "execution_count": null,
   "metadata": {
    "vscode": {
     "languageId": "plaintext"
    }
   },
   "outputs": [],
   "source": [
    "## Step 1: Set Up SQLite Database\n",
    "\n",
    "Create a new SQLite database to store the e-commerce data. The database will be saved as `ecommerce_data.db` in the project directory."
   ]
  },
  {
   "cell_type": "code",
   "execution_count": null,
   "metadata": {
    "vscode": {
     "languageId": "plaintext"
    }
   },
   "outputs": [],
   "source": [
    "# Create/connect to SQLite database\n",
    "db_path = '../ecommerce_data.db'  # Store in project root\n",
    "conn = sqlite3.connect(db_path)\n",
    "print(f'Connected to SQLite database at {db_path}')"
   ]
  },
  {
   "cell_type": "code",
   "execution_count": null,
   "metadata": {
    "vscode": {
     "languageId": "plaintext"
    }
   },
   "outputs": [],
   "source": [
    "## Step 2: Import Dataset into SQLite\n",
    "\n",
    "Read the CSV file into a pandas DataFrame and write it to an SQLite table named `transactions`. If the table exists, it will be replaced."
   ]
  },
  {
   "cell_type": "code",
   "execution_count": null,
   "metadata": {
    "vscode": {
     "languageId": "plaintext"
    }
   },
   "outputs": [],
   "source": [
    "# Read CSV into DataFrame\n",
    "df = pd.read_csv(csv_file_path, encoding='latin1')  # Use latin1 encoding to avoid errors\n",
    "print('DataFrame shape:', df.shape)\n",
    "\n",
    "# Write to SQLite table\n",
    "table_name = 'transactions'\n",
    "df.to_sql(table_name, conn, if_exists='replace', index=False)\n",
    "print(f\"Data imported into table '{table_name}' successfully.\")"
   ]
  },
  {
   "cell_type": "code",
   "execution_count": null,
   "metadata": {
    "vscode": {
     "languageId": "plaintext"
    }
   },
   "outputs": [],
   "source": [
    "## Step 3: Explore Data Structure\n",
    "\n",
    "Inspect the table schema (column names and types) and view sample data to confirm the import."
   ]
  },
  {
   "cell_type": "code",
   "execution_count": null,
   "metadata": {
    "vscode": {
     "languageId": "plaintext"
    }
   },
   "outputs": [],
   "source": [
    "# Get table schema\n",
    "schema_query = f'PRAGMA table_info({table_name});'\n",
    "schema = pd.read_sql_query(schema_query, conn)\n",
    "print('Table Schema:')\n",
    "print(schema[['name', 'type']])\n",
    "\n",
    "# Get sample data (first 5 rows)\n",
    "sample_data_query = f'SELECT * FROM {table_name} LIMIT 5;'\n",
    "sample_data = pd.read_sql_query(sample_data_query, conn)\n",
    "print('\\nSample Data:')\n",
    "print(sample_data)\n",
    "\n",
    "# Get total row count\n",
    "count_query = f'SELECT COUNT(*) AS row_count FROM {table_name};'\n",
    "row_count = pd.read_sql_query(count_query, conn)\n",
    "print('\\nTotal Rows:', row_count['row_count'].iloc[0])\n",
    "\n",
    "# Close connection\n",
    "conn.close()\n",
    "print('Database connection closed.')"
   ]
  },
  {
   "cell_type": "code",
   "execution_count": null,
   "metadata": {
    "vscode": {
     "languageId": "plaintext"
    }
   },
   "outputs": [],
   "source": [
    "## Summary\n",
    "\n",
    "- Dataset imported into SQLite table `transactions`.\n",
    "- Schema includes columns like `InvoiceNo`, `CustomerID`, `InvoiceDate`, `Quantity`, `UnitPrice`, etc.\n",
    "- Total rows: [Replace with row count from output].\n",
    "- Next steps: Clean and preprocess data in Phase 2."
   ]
  }
 ],
 "metadata": {
  "language_info": {
   "name": "python"
  }
 },
 "nbformat": 4,
 "nbformat_minor": 2
}
