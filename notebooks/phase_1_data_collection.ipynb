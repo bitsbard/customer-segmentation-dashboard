{
 "cells": [
  {
   "cell_type": "code",
   "execution_count": null,
   "metadata": {},
   "outputs": [],
   "source": [
    "# Customer Segmentation Dashboard: Phase 1 - Data Collection and Preparation\n",
    "**Objective**: Source and set up e-commerce customer data in an SQLite database for RFM analysis.\n",
    "\n",
    "**Tools**:\n",
    "- Python (pandas, sqlite3)\n",
    "- SQLite database\n",
    "- Dataset: Kaggle 'carrie1/ecommerce-data'\n",
    "\n",
    "**Steps**:\n",
    "1. Confirm dataset path from Kaggle download.\n",
    "2. Create an SQLite database.\n",
    "3. Import the dataset into the database.\n",
    "4. Explore the data structure (schema and sample rows)."
   ]
  },
  {
   "cell_type": "code",
   "execution_count": 18,
   "metadata": {},
   "outputs": [
    {
     "name": "stdout",
     "output_type": "stream",
     "text": [
      "SUCCESS: Data file found at ../data/data.csv\n"
     ]
    }
   ],
   "source": [
    "import pandas as pd\n",
    "import sqlite3\n",
    "import os\n",
    "\n",
    "# Confirm the data file is present in the data/ directory\n",
    "csv_file_path = '../data/data.csv'  # Data file is present in the data/ directory\n",
    "\n",
    "if os.path.exists(csv_file_path):\n",
    "    print(f\"SUCCESS: Data file found at {csv_file_path}\")\n",
    "else:\n",
    "    print(f\"ERROR: Data file not found at {csv_file_path}\")"
   ]
  },
  {
   "cell_type": "code",
   "execution_count": null,
   "metadata": {},
   "outputs": [],
   "source": [
    "## Step 1: Set Up SQLite Database\n",
    "\n",
    "Create a new SQLite database to store the e-commerce data. The database will be saved as `ecommerce_data.db` in the project directory."
   ]
  },
  {
   "cell_type": "code",
   "execution_count": 13,
   "metadata": {},
   "outputs": [
    {
     "name": "stdout",
     "output_type": "stream",
     "text": [
      "Connected to SQLite database at ../ecommerce_data.db\n"
     ]
    }
   ],
   "source": [
    "# Create/connect to SQLite database\n",
    "db_path = '../ecommerce_data.db'  # Store in project root\n",
    "conn = sqlite3.connect(db_path)\n",
    "print(f'Connected to SQLite database at {db_path}')"
   ]
  },
  {
   "cell_type": "code",
   "execution_count": null,
   "metadata": {},
   "outputs": [],
   "source": [
    "## Step 2: Import Dataset into SQLite\n",
    "\n",
    "Read the CSV file into a pandas DataFrame and write it to an SQLite table named `transactions`. If the table exists, it will be replaced."
   ]
  },
  {
   "cell_type": "code",
   "execution_count": 14,
   "metadata": {},
   "outputs": [
    {
     "name": "stdout",
     "output_type": "stream",
     "text": [
      "DataFrame shape: (541909, 8)\n",
      "Data imported into table 'transactions' successfully.\n"
     ]
    }
   ],
   "source": [
    "# Read CSV into DataFrame\n",
    "df = pd.read_csv(csv_file_path, encoding='latin1')  # Use latin1 encoding to avoid errors\n",
    "print('DataFrame shape:', df.shape)\n",
    "\n",
    "# Write to SQLite table\n",
    "table_name = 'transactions'\n",
    "df.to_sql(table_name, conn, if_exists='replace', index=False)\n",
    "print(f\"Data imported into table '{table_name}' successfully.\")"
   ]
  },
  {
   "cell_type": "code",
   "execution_count": null,
   "metadata": {},
   "outputs": [],
   "source": [
    "## Step 3: Explore Data Structure\n",
    "\n",
    "Inspect the table schema (column names and types) and view sample data to confirm the import."
   ]
  },
  {
   "cell_type": "code",
   "execution_count": 15,
   "metadata": {},
   "outputs": [
    {
     "name": "stdout",
     "output_type": "stream",
     "text": [
      "Table Schema:\n",
      "          name     type\n",
      "0    InvoiceNo     TEXT\n",
      "1    StockCode     TEXT\n",
      "2  Description     TEXT\n",
      "3     Quantity  INTEGER\n",
      "4  InvoiceDate     TEXT\n",
      "5    UnitPrice     REAL\n",
      "6   CustomerID     REAL\n",
      "7      Country     TEXT\n",
      "\n",
      "Sample Data:\n",
      "  InvoiceNo StockCode                          Description  Quantity  \\\n",
      "0    536365    85123A   WHITE HANGING HEART T-LIGHT HOLDER         6   \n",
      "1    536365     71053                  WHITE METAL LANTERN         6   \n",
      "2    536365    84406B       CREAM CUPID HEARTS COAT HANGER         8   \n",
      "3    536365    84029G  KNITTED UNION FLAG HOT WATER BOTTLE         6   \n",
      "4    536365    84029E       RED WOOLLY HOTTIE WHITE HEART.         6   \n",
      "\n",
      "      InvoiceDate  UnitPrice  CustomerID         Country  \n",
      "0  12/1/2010 8:26       2.55     17850.0  United Kingdom  \n",
      "1  12/1/2010 8:26       3.39     17850.0  United Kingdom  \n",
      "2  12/1/2010 8:26       2.75     17850.0  United Kingdom  \n",
      "3  12/1/2010 8:26       3.39     17850.0  United Kingdom  \n",
      "4  12/1/2010 8:26       3.39     17850.0  United Kingdom  \n",
      "\n",
      "Total Rows: 541909\n",
      "Database connection closed.\n"
     ]
    }
   ],
   "source": [
    "# Get table schema\n",
    "schema_query = f'PRAGMA table_info({table_name});'\n",
    "schema = pd.read_sql_query(schema_query, conn)\n",
    "print('Table Schema:')\n",
    "print(schema[['name', 'type']])\n",
    "\n",
    "# Get sample data (first 5 rows)\n",
    "sample_data_query = f'SELECT * FROM {table_name} LIMIT 5;'\n",
    "sample_data = pd.read_sql_query(sample_data_query, conn)\n",
    "print('\\nSample Data:')\n",
    "print(sample_data)\n",
    "\n",
    "# Get total row count\n",
    "count_query = f'SELECT COUNT(*) AS row_count FROM {table_name};'\n",
    "row_count = pd.read_sql_query(count_query, conn)\n",
    "print('\\nTotal Rows:', row_count['row_count'].iloc[0])\n",
    "\n",
    "# Close connection\n",
    "conn.close()\n",
    "print('Database connection closed.')"
   ]
  },
  {
   "cell_type": "code",
   "execution_count": null,
   "metadata": {},
   "outputs": [],
   "source": [
    "## Summary\n",
    "\n",
    "- Dataset imported into SQLite table `transactions`.\n",
    "- Schema includes columns like `InvoiceNo`, `CustomerID`, `InvoiceDate`, `Quantity`, `UnitPrice`, etc.\n",
    "- Total rows: [Replace with row count from output].\n",
    "- Next steps: Clean and preprocess data in Phase 2."
   ]
  }
 ],
 "metadata": {
  "kernelspec": {
   "display_name": "myenv",
   "language": "python",
   "name": "python3"
  },
  "language_info": {
   "codemirror_mode": {
    "name": "ipython",
    "version": 3
   },
   "file_extension": ".py",
   "mimetype": "text/x-python",
   "name": "python",
   "nbconvert_exporter": "python",
   "pygments_lexer": "ipython3",
   "version": "3.13.1"
  }
 },
 "nbformat": 4,
 "nbformat_minor": 2
}
